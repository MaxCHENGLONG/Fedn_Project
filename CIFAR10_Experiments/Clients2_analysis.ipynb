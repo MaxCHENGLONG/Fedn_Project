{
 "cells": [
  {
   "cell_type": "code",
   "execution_count": 4,
   "metadata": {},
   "outputs": [],
   "source": [
    "import numpy as np\n",
    "import matplotlib.pyplot as plt\n",
    "import pandas as pd\n",
    "import json"
   ]
  },
  {
   "cell_type": "markdown",
   "metadata": {},
   "source": [
    "| Experiment ID       | Description       | \n",
    "|-----------------|----------------|\n",
    "| 2bcc3999-3677-4989-a7eb-32639b83c165| IID Balanced FedAvg FedNet| \n",
    "| 176b58e9-aace-4cbc-b7dc-8dba88af1bff| IID Balanced FedAdam FedNet| \n",
    "| ba41442b-e46e-41a1-870c-ff313b6a0c8c| IID Imbalanced FedAvg FedNet| \n",
    "| 3991aac2-cc3c-4405-b26f-e2896394190a| IID Imbalanced FedAdam FedNet|  \n",
    "| c5546b93-0450-41f3-8bf1-6535798c2d21| Non-IID Balanced FedAvg FedNet| \n",
    "| 386b3021-3e83-4f5a-805b-3cdfcadb2489| Non-IID Balanced FedAdam FedNet| \n",
    "| 7d546014-9e46-4ada-b86a-dc8b15b0d478| Non-IID Imbalanced FedAvg FedNet| \n",
    "| 5230e970-1ee8-4d61-9fde-83624c02d771| Non-IID Imbalanced FedAdam FedNet| \n"
   ]
  },
  {
   "cell_type": "code",
   "execution_count": 8,
   "metadata": {},
   "outputs": [],
   "source": [
    "def get_json(file_path):\n",
    "    with open(file_path) as f:\n",
    "        data = json.load(f)\n",
    "    return data"
   ]
  },
  {
   "cell_type": "code",
   "execution_count": 1,
   "metadata": {},
   "outputs": [],
   "source": [
    "def get_experiment_data_2clients(file_path):\n",
    "    import numpy as np\n",
    "    import pandas as pd\n",
    "    training_data0 = get_json(file_path+'/0/training.json')\n",
    "    training_data1 = get_json(file_path+'/1/training.json')\n",
    "    validate_data0 = get_json(file_path+'/0/validate.json')\n",
    "    validate_data1 = get_json(file_path+'/1/validate.json')\n",
    "    training_data0 = pd.DataFrame(training_data0)\n",
    "    training_data1 = pd.DataFrame(training_data1)\n",
    "    validate_data0 = pd.DataFrame(validate_data0)\n",
    "    validate_data1 = pd.DataFrame(validate_data1)"
   ]
  },
  {
   "cell_type": "code",
   "execution_count": null,
   "metadata": {},
   "outputs": [],
   "source": []
  }
 ],
 "metadata": {
  "kernelspec": {
   "display_name": "fednpy38",
   "language": "python",
   "name": "python3"
  },
  "language_info": {
   "codemirror_mode": {
    "name": "ipython",
    "version": 3
   },
   "file_extension": ".py",
   "mimetype": "text/x-python",
   "name": "python",
   "nbconvert_exporter": "python",
   "pygments_lexer": "ipython3",
   "version": "3.8.19"
  }
 },
 "nbformat": 4,
 "nbformat_minor": 2
}
