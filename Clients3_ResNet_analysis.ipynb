{
 "cells": [
  {
   "cell_type": "code",
   "execution_count": 4,
   "metadata": {},
   "outputs": [],
   "source": [
    "import numpy as np\n",
    "import matplotlib.pyplot as plt\n",
    "import pandas as pd\n",
    "import json"
   ]
  },
  {
   "cell_type": "markdown",
   "metadata": {},
   "source": [
    "| Experiment ID       | Description       | \n",
    "|-----------------|----------------|\n",
    "| b451d047-c9b3-450c-be7b-42c8a0c6d7b4| IID Balanced FedAvg ResNet| \n",
    "| 7bf0af61-2674-4fec-960f-bbf6fe5c2d36| IID Balanced FedAdam ResNet| \n",
    "| 630c180e-e292-4fc3-8f7c-6f6655855a5b| IID Imbalanced FedAvg ResNet| \n",
    "| ef47fd93-925a-42f4-be44-7b302cee44d3| IID Imbalanced FedAdam ResNet|  \n",
    "| aee656c0-5dd4-4fba-b1e4-1cdf52cd7ac0| Non-IID Balanced FedAvg ResNet| \n",
    "| a97f0e29-0262-4eb9-a117-f08f25a3a2b1| Non-IID Balanced FedAdam ResNet| \n",
    "| 9a0fe8d3-8506-4157-ab61-291fc6d9c38d| Non-IID Imbalanced FedAvg ResNet| \n",
    "| bb3aa1b6-db01-4610-9689-9d0101e92d17| Non-IID Imbalanced FedAdam ResNet| "
   ]
  },
  {
   "cell_type": "code",
   "execution_count": 5,
   "metadata": {},
   "outputs": [],
   "source": [
    "def get_json(file_path):\n",
    "    with open(file_path) as f:\n",
    "        data = json.load(f)\n",
    "    return data"
   ]
  },
  {
   "cell_type": "code",
   "execution_count": 6,
   "metadata": {},
   "outputs": [],
   "source": [
    "def get_experiment_data_3clients(file_path):\n",
    "    import numpy as np\n",
    "    import pandas as pd\n",
    "    training_data0 = get_json(file_path+'/0/training.json')\n",
    "    training_data1 = get_json(file_path+'/1/training.json')\n",
    "    training_data2 = get_json(file_path+'/2/training.json')\n",
    "    validate_data0 = get_json(file_path+'/0/validate.json')\n",
    "    validate_data1 = get_json(file_path+'/1/validate.json')\n",
    "    validate_data2 = get_json(file_path+'/2/validate.json')\n",
    "    training_data0 = pd.DataFrame(training_data0)\n",
    "    training_data1 = pd.DataFrame(training_data1)\n",
    "    training_data2 = pd.DataFrame(training_data2)\n",
    "    validate_data0 = pd.DataFrame(validate_data0)\n",
    "    validate_data1 = pd.DataFrame(validate_data1)\n",
    "    validate_data2 = pd.DataFrame(validate_data2)\n",
    "    return training_data0, training_data1, training_data2, validate_data0, validate_data1, validate_data2"
   ]
  },
  {
   "cell_type": "code",
   "execution_count": 8,
   "metadata": {},
   "outputs": [],
   "source": [
    "#ex1_training_data0, ex1_training_data1, ex1_training_data2, ex1_validate_data0, ex1_validate_data1, ex1_validate_data2 = get_experiment_data_3clients(\"/Users/max/Fedn_Project/CIFAR10_Experiments/3clients/ResNet/b451d047-c9b3-450c-be7b-42c8a0c6d7b4\")\n",
    "ex2_training_data0, ex2_training_data1, ex2_training_data2, ex2_validate_data0, ex2_validate_data1, ex2_validate_data2 = get_experiment_data_3clients(\"/Users/max/Fedn_Project/CIFAR10_Experiments/3clients/ResNet/7bf0af61-2674-4fec-960f-bbf6fe5c2d36\")\n",
    "\n",
    "ex3_training_data0, ex3_training_data1, ex3_training_data2, ex3_validate_data0, ex3_validate_data1, ex3_validate_data2 = get_experiment_data_3clients(\"/Users/max/Fedn_Project/CIFAR10_Experiments/3clients/ResNet/630c180e-e292-4fc3-8f7c-6f6655855a5b\")\n",
    "ex4_training_data0, ex4_training_data1, ex4_training_data2, ex4_validate_data0, ex4_validate_data1, ex4_validate_data2 = get_experiment_data_3clients(\"/Users/max/Fedn_Project/CIFAR10_Experiments/3clients/ResNet/ef47fd93-925a-42f4-be44-7b302cee44d3\")\n",
    "ex5_training_data0, ex5_training_data1, ex5_training_data2, ex5_validate_data0, ex5_validate_data1, ex5_validate_data2 = get_experiment_data_3clients(\"/Users/max/Fedn_Project/CIFAR10_Experiments/3clients/ResNet/aee656c0-5dd4-4fba-b1e4-1cdf52cd7ac0\")\n",
    "ex6_training_data0, ex6_training_data1, ex6_training_data2, ex6_validate_data0, ex6_validate_data1, ex6_validate_data2 = get_experiment_data_3clients(\"/Users/max/Fedn_Project/CIFAR10_Experiments/3clients/ResNet/a97f0e29-0262-4eb9-a117-f08f25a3a2b1\")\n",
    "ex7_training_data0, ex7_training_data1, ex7_training_data2, ex7_validate_data0, ex7_validate_data1, ex7_validate_data2 = get_experiment_data_3clients(\"/Users/max/Fedn_Project/CIFAR10_Experiments/3clients/ResNet/9a0fe8d3-8506-4157-ab61-291fc6d9c38d\")\n",
    "ex8_training_data0, ex8_training_data1, ex8_training_data2, ex8_validate_data0, ex8_validate_data1, ex8_validate_data2 = get_experiment_data_3clients(\"/Users/max/Fedn_Project/CIFAR10_Experiments/3clients/ResNet/bb3aa1b6-db01-4610-9689-9d0101e92d17\")\n"
   ]
  },
  {
   "cell_type": "code",
   "execution_count": null,
   "metadata": {},
   "outputs": [],
   "source": []
  }
 ],
 "metadata": {
  "kernelspec": {
   "display_name": "fednpy38",
   "language": "python",
   "name": "python3"
  },
  "language_info": {
   "codemirror_mode": {
    "name": "ipython",
    "version": 3
   },
   "file_extension": ".py",
   "mimetype": "text/x-python",
   "name": "python",
   "nbconvert_exporter": "python",
   "pygments_lexer": "ipython3",
   "version": "3.8.19"
  }
 },
 "nbformat": 4,
 "nbformat_minor": 2
}
